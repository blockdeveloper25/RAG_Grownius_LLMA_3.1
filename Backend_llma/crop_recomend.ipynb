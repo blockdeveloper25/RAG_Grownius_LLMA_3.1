{
 "cells": [
  {
   "cell_type": "markdown",
   "id": "9afdace4",
   "metadata": {},
   "source": [
    "# Grownius "
   ]
  },
  {
   "cell_type": "code",
   "execution_count": 26,
   "id": "31ab1712",
   "metadata": {},
   "outputs": [],
   "source": [
    "import pandas as pd\n",
    "import numpy as np\n",
    "import matplotlib.pyplot as plt\n",
    "import seaborn as sns\n",
    "import sklearn\n",
    "\n",
    "from sklearn.model_selection import train_test_split\n",
    "from sklearn.ensemble import RandomForestClassifier\n",
    "from sklearn.metrics import accuracy_score\n",
    "\n",
    "from sklearn.metrics import accuracy_score, precision_score, recall_score, f1_score,confusion_matrix,log_loss"
   ]
  },
  {
   "cell_type": "code",
   "execution_count": 27,
   "id": "7cbe262b",
   "metadata": {},
   "outputs": [],
   "source": [
    "df = pd.read_csv('Crop_recommendation.csv')"
   ]
  },
  {
   "cell_type": "code",
   "execution_count": 28,
   "id": "b11faa96",
   "metadata": {},
   "outputs": [
    {
     "data": {
      "application/vnd.microsoft.datawrangler.viewer.v0+json": {
       "columns": [
        {
         "name": "index",
         "rawType": "int64",
         "type": "integer"
        },
        {
         "name": "N",
         "rawType": "int64",
         "type": "integer"
        },
        {
         "name": "P",
         "rawType": "int64",
         "type": "integer"
        },
        {
         "name": "K",
         "rawType": "int64",
         "type": "integer"
        },
        {
         "name": "temperature",
         "rawType": "float64",
         "type": "float"
        },
        {
         "name": "humidity",
         "rawType": "float64",
         "type": "float"
        },
        {
         "name": "ph",
         "rawType": "float64",
         "type": "float"
        },
        {
         "name": "rainfall",
         "rawType": "float64",
         "type": "float"
        },
        {
         "name": "label",
         "rawType": "object",
         "type": "string"
        }
       ],
       "ref": "919dc30d-8e5f-4080-8d8d-c26b290543d2",
       "rows": [
        [
         "0",
         "90",
         "42",
         "43",
         "20.87974371",
         "82.00274423",
         "6.502985292000001",
         "202.9355362",
         "rice"
        ],
        [
         "1",
         "85",
         "58",
         "41",
         "21.77046169",
         "80.31964408",
         "7.038096361",
         "226.6555374",
         "rice"
        ],
        [
         "2",
         "60",
         "55",
         "44",
         "23.00445915",
         "82.3207629",
         "7.840207144",
         "263.9642476",
         "rice"
        ],
        [
         "3",
         "74",
         "35",
         "40",
         "26.49109635",
         "80.15836264",
         "6.980400905",
         "242.8640342",
         "rice"
        ],
        [
         "4",
         "78",
         "42",
         "42",
         "20.13017482",
         "81.60487287",
         "7.628472891",
         "262.7173405",
         "rice"
        ]
       ],
       "shape": {
        "columns": 8,
        "rows": 5
       }
      },
      "text/html": [
       "<div>\n",
       "<style scoped>\n",
       "    .dataframe tbody tr th:only-of-type {\n",
       "        vertical-align: middle;\n",
       "    }\n",
       "\n",
       "    .dataframe tbody tr th {\n",
       "        vertical-align: top;\n",
       "    }\n",
       "\n",
       "    .dataframe thead th {\n",
       "        text-align: right;\n",
       "    }\n",
       "</style>\n",
       "<table border=\"1\" class=\"dataframe\">\n",
       "  <thead>\n",
       "    <tr style=\"text-align: right;\">\n",
       "      <th></th>\n",
       "      <th>N</th>\n",
       "      <th>P</th>\n",
       "      <th>K</th>\n",
       "      <th>temperature</th>\n",
       "      <th>humidity</th>\n",
       "      <th>ph</th>\n",
       "      <th>rainfall</th>\n",
       "      <th>label</th>\n",
       "    </tr>\n",
       "  </thead>\n",
       "  <tbody>\n",
       "    <tr>\n",
       "      <th>0</th>\n",
       "      <td>90</td>\n",
       "      <td>42</td>\n",
       "      <td>43</td>\n",
       "      <td>20.879744</td>\n",
       "      <td>82.002744</td>\n",
       "      <td>6.502985</td>\n",
       "      <td>202.935536</td>\n",
       "      <td>rice</td>\n",
       "    </tr>\n",
       "    <tr>\n",
       "      <th>1</th>\n",
       "      <td>85</td>\n",
       "      <td>58</td>\n",
       "      <td>41</td>\n",
       "      <td>21.770462</td>\n",
       "      <td>80.319644</td>\n",
       "      <td>7.038096</td>\n",
       "      <td>226.655537</td>\n",
       "      <td>rice</td>\n",
       "    </tr>\n",
       "    <tr>\n",
       "      <th>2</th>\n",
       "      <td>60</td>\n",
       "      <td>55</td>\n",
       "      <td>44</td>\n",
       "      <td>23.004459</td>\n",
       "      <td>82.320763</td>\n",
       "      <td>7.840207</td>\n",
       "      <td>263.964248</td>\n",
       "      <td>rice</td>\n",
       "    </tr>\n",
       "    <tr>\n",
       "      <th>3</th>\n",
       "      <td>74</td>\n",
       "      <td>35</td>\n",
       "      <td>40</td>\n",
       "      <td>26.491096</td>\n",
       "      <td>80.158363</td>\n",
       "      <td>6.980401</td>\n",
       "      <td>242.864034</td>\n",
       "      <td>rice</td>\n",
       "    </tr>\n",
       "    <tr>\n",
       "      <th>4</th>\n",
       "      <td>78</td>\n",
       "      <td>42</td>\n",
       "      <td>42</td>\n",
       "      <td>20.130175</td>\n",
       "      <td>81.604873</td>\n",
       "      <td>7.628473</td>\n",
       "      <td>262.717340</td>\n",
       "      <td>rice</td>\n",
       "    </tr>\n",
       "  </tbody>\n",
       "</table>\n",
       "</div>"
      ],
      "text/plain": [
       "    N   P   K  temperature   humidity        ph    rainfall label\n",
       "0  90  42  43    20.879744  82.002744  6.502985  202.935536  rice\n",
       "1  85  58  41    21.770462  80.319644  7.038096  226.655537  rice\n",
       "2  60  55  44    23.004459  82.320763  7.840207  263.964248  rice\n",
       "3  74  35  40    26.491096  80.158363  6.980401  242.864034  rice\n",
       "4  78  42  42    20.130175  81.604873  7.628473  262.717340  rice"
      ]
     },
     "execution_count": 28,
     "metadata": {},
     "output_type": "execute_result"
    }
   ],
   "source": [
    "df.head()"
   ]
  },
  {
   "cell_type": "code",
   "execution_count": 29,
   "id": "97eb8149",
   "metadata": {},
   "outputs": [
    {
     "name": "stdout",
     "output_type": "stream",
     "text": [
      "<class 'pandas.core.frame.DataFrame'>\n",
      "RangeIndex: 2200 entries, 0 to 2199\n",
      "Data columns (total 8 columns):\n",
      " #   Column       Non-Null Count  Dtype  \n",
      "---  ------       --------------  -----  \n",
      " 0   N            2200 non-null   int64  \n",
      " 1   P            2200 non-null   int64  \n",
      " 2   K            2200 non-null   int64  \n",
      " 3   temperature  2200 non-null   float64\n",
      " 4   humidity     2200 non-null   float64\n",
      " 5   ph           2200 non-null   float64\n",
      " 6   rainfall     2200 non-null   float64\n",
      " 7   label        2200 non-null   object \n",
      "dtypes: float64(4), int64(3), object(1)\n",
      "memory usage: 137.6+ KB\n"
     ]
    }
   ],
   "source": [
    "df.info()"
   ]
  },
  {
   "cell_type": "code",
   "execution_count": 30,
   "id": "d40e2229",
   "metadata": {},
   "outputs": [
    {
     "data": {
      "application/vnd.microsoft.datawrangler.viewer.v0+json": {
       "columns": [
        {
         "name": "index",
         "rawType": "object",
         "type": "string"
        },
        {
         "name": "N",
         "rawType": "float64",
         "type": "float"
        },
        {
         "name": "P",
         "rawType": "float64",
         "type": "float"
        },
        {
         "name": "K",
         "rawType": "float64",
         "type": "float"
        },
        {
         "name": "temperature",
         "rawType": "float64",
         "type": "float"
        },
        {
         "name": "humidity",
         "rawType": "float64",
         "type": "float"
        },
        {
         "name": "ph",
         "rawType": "float64",
         "type": "float"
        },
        {
         "name": "rainfall",
         "rawType": "float64",
         "type": "float"
        }
       ],
       "ref": "d65e1346-8c18-4e09-afa1-01b8c5490052",
       "rows": [
        [
         "count",
         "2200.0",
         "2200.0",
         "2200.0",
         "2200.0",
         "2200.0",
         "2200.0",
         "2200.0"
        ],
        [
         "mean",
         "50.551818181818184",
         "53.36272727272727",
         "48.14909090909091",
         "25.616243851779544",
         "71.48177921778637",
         "6.469480065256364",
         "103.46365541576817"
        ],
        [
         "std",
         "36.9173338337566",
         "32.98588273858715",
         "50.64793054666013",
         "5.063748599958843",
         "22.263811589761083",
         "0.7739376880298733",
         "54.95838852487813"
        ],
        [
         "min",
         "0.0",
         "5.0",
         "5.0",
         "8.825674745",
         "14.25803981",
         "3.504752314",
         "20.21126747"
        ],
        [
         "25%",
         "21.0",
         "28.0",
         "20.0",
         "22.7693746325",
         "60.2619528025",
         "5.97169279925",
         "64.55168599999999"
        ],
        [
         "50%",
         "37.0",
         "51.0",
         "32.0",
         "25.5986932",
         "80.473145665",
         "6.42504527",
         "94.86762427"
        ],
        [
         "75%",
         "84.25",
         "68.0",
         "49.0",
         "28.5616539325",
         "89.948770755",
         "6.923642621250002",
         "124.2675078"
        ],
        [
         "max",
         "140.0",
         "145.0",
         "205.0",
         "43.67549305",
         "99.98187601",
         "9.93509073",
         "298.5601175"
        ]
       ],
       "shape": {
        "columns": 7,
        "rows": 8
       }
      },
      "text/html": [
       "<div>\n",
       "<style scoped>\n",
       "    .dataframe tbody tr th:only-of-type {\n",
       "        vertical-align: middle;\n",
       "    }\n",
       "\n",
       "    .dataframe tbody tr th {\n",
       "        vertical-align: top;\n",
       "    }\n",
       "\n",
       "    .dataframe thead th {\n",
       "        text-align: right;\n",
       "    }\n",
       "</style>\n",
       "<table border=\"1\" class=\"dataframe\">\n",
       "  <thead>\n",
       "    <tr style=\"text-align: right;\">\n",
       "      <th></th>\n",
       "      <th>N</th>\n",
       "      <th>P</th>\n",
       "      <th>K</th>\n",
       "      <th>temperature</th>\n",
       "      <th>humidity</th>\n",
       "      <th>ph</th>\n",
       "      <th>rainfall</th>\n",
       "    </tr>\n",
       "  </thead>\n",
       "  <tbody>\n",
       "    <tr>\n",
       "      <th>count</th>\n",
       "      <td>2200.000000</td>\n",
       "      <td>2200.000000</td>\n",
       "      <td>2200.000000</td>\n",
       "      <td>2200.000000</td>\n",
       "      <td>2200.000000</td>\n",
       "      <td>2200.000000</td>\n",
       "      <td>2200.000000</td>\n",
       "    </tr>\n",
       "    <tr>\n",
       "      <th>mean</th>\n",
       "      <td>50.551818</td>\n",
       "      <td>53.362727</td>\n",
       "      <td>48.149091</td>\n",
       "      <td>25.616244</td>\n",
       "      <td>71.481779</td>\n",
       "      <td>6.469480</td>\n",
       "      <td>103.463655</td>\n",
       "    </tr>\n",
       "    <tr>\n",
       "      <th>std</th>\n",
       "      <td>36.917334</td>\n",
       "      <td>32.985883</td>\n",
       "      <td>50.647931</td>\n",
       "      <td>5.063749</td>\n",
       "      <td>22.263812</td>\n",
       "      <td>0.773938</td>\n",
       "      <td>54.958389</td>\n",
       "    </tr>\n",
       "    <tr>\n",
       "      <th>min</th>\n",
       "      <td>0.000000</td>\n",
       "      <td>5.000000</td>\n",
       "      <td>5.000000</td>\n",
       "      <td>8.825675</td>\n",
       "      <td>14.258040</td>\n",
       "      <td>3.504752</td>\n",
       "      <td>20.211267</td>\n",
       "    </tr>\n",
       "    <tr>\n",
       "      <th>25%</th>\n",
       "      <td>21.000000</td>\n",
       "      <td>28.000000</td>\n",
       "      <td>20.000000</td>\n",
       "      <td>22.769375</td>\n",
       "      <td>60.261953</td>\n",
       "      <td>5.971693</td>\n",
       "      <td>64.551686</td>\n",
       "    </tr>\n",
       "    <tr>\n",
       "      <th>50%</th>\n",
       "      <td>37.000000</td>\n",
       "      <td>51.000000</td>\n",
       "      <td>32.000000</td>\n",
       "      <td>25.598693</td>\n",
       "      <td>80.473146</td>\n",
       "      <td>6.425045</td>\n",
       "      <td>94.867624</td>\n",
       "    </tr>\n",
       "    <tr>\n",
       "      <th>75%</th>\n",
       "      <td>84.250000</td>\n",
       "      <td>68.000000</td>\n",
       "      <td>49.000000</td>\n",
       "      <td>28.561654</td>\n",
       "      <td>89.948771</td>\n",
       "      <td>6.923643</td>\n",
       "      <td>124.267508</td>\n",
       "    </tr>\n",
       "    <tr>\n",
       "      <th>max</th>\n",
       "      <td>140.000000</td>\n",
       "      <td>145.000000</td>\n",
       "      <td>205.000000</td>\n",
       "      <td>43.675493</td>\n",
       "      <td>99.981876</td>\n",
       "      <td>9.935091</td>\n",
       "      <td>298.560117</td>\n",
       "    </tr>\n",
       "  </tbody>\n",
       "</table>\n",
       "</div>"
      ],
      "text/plain": [
       "                 N            P            K  temperature     humidity  \\\n",
       "count  2200.000000  2200.000000  2200.000000  2200.000000  2200.000000   \n",
       "mean     50.551818    53.362727    48.149091    25.616244    71.481779   \n",
       "std      36.917334    32.985883    50.647931     5.063749    22.263812   \n",
       "min       0.000000     5.000000     5.000000     8.825675    14.258040   \n",
       "25%      21.000000    28.000000    20.000000    22.769375    60.261953   \n",
       "50%      37.000000    51.000000    32.000000    25.598693    80.473146   \n",
       "75%      84.250000    68.000000    49.000000    28.561654    89.948771   \n",
       "max     140.000000   145.000000   205.000000    43.675493    99.981876   \n",
       "\n",
       "                ph     rainfall  \n",
       "count  2200.000000  2200.000000  \n",
       "mean      6.469480   103.463655  \n",
       "std       0.773938    54.958389  \n",
       "min       3.504752    20.211267  \n",
       "25%       5.971693    64.551686  \n",
       "50%       6.425045    94.867624  \n",
       "75%       6.923643   124.267508  \n",
       "max       9.935091   298.560117  "
      ]
     },
     "execution_count": 30,
     "metadata": {},
     "output_type": "execute_result"
    }
   ],
   "source": [
    "df.describe()"
   ]
  },
  {
   "cell_type": "code",
   "execution_count": 31,
   "id": "019dbbd1",
   "metadata": {},
   "outputs": [
    {
     "data": {
      "text/plain": [
       "array(['rice', 'maize', 'chickpea', 'kidneybeans', 'pigeonpeas',\n",
       "       'mothbeans', 'mungbean', 'blackgram', 'lentil', 'pomegranate',\n",
       "       'banana', 'mango', 'grapes', 'watermelon', 'muskmelon', 'apple',\n",
       "       'orange', 'papaya', 'coconut', 'cotton', 'jute', 'coffee'],\n",
       "      dtype=object)"
      ]
     },
     "execution_count": 31,
     "metadata": {},
     "output_type": "execute_result"
    }
   ],
   "source": [
    "df['label'].unique()"
   ]
  },
  {
   "cell_type": "markdown",
   "id": "383748d2",
   "metadata": {},
   "source": [
    "# Model Training 80 - 20"
   ]
  },
  {
   "cell_type": "code",
   "execution_count": 32,
   "id": "dfe82aee",
   "metadata": {},
   "outputs": [],
   "source": [
    "df_train_test, df_val = train_test_split(df, test_size=0.2, random_state=42)"
   ]
  },
  {
   "cell_type": "markdown",
   "id": "5b19f7e0",
   "metadata": {},
   "source": [
    "## Training"
   ]
  },
  {
   "cell_type": "code",
   "execution_count": 33,
   "id": "a56bc1ce",
   "metadata": {},
   "outputs": [],
   "source": [
    "def model_training(df):\n",
    "    \"\"\"\n",
    "    Trains a  model on the provided dataset.\n",
    "    Parameters: df :The dataset containing features and labels.\n",
    "    Returns: The trained RandomForest model.\n",
    "    \"\"\"\n",
    "    X = df.drop('label',axis=1)\n",
    "    y = df['label']\n",
    "    \n",
    "    X_train, X_test, y_train, y_test = train_test_split(X, y, test_size=0.3, random_state=42)\n",
    "    model = RandomForestClassifier(n_estimators=100, random_state=42)\n",
    "    model.fit(X_train, y_train)\n",
    "    \n",
    "    ## presdicting on the test set\n",
    "    y_pred = model.predict(X_test)\n",
    "    results_df = pd.DataFrame({'Actual': y_test.values, 'Predicted': y_pred})\n",
    "    print(results_df.head())\n",
    "    # Evaluate the model\n",
    "    print(\"Model training completed.\")\n",
    "    print(\"\\n\")\n",
    "    print(\"#\"*100)\n",
    "    print(\"\\n\")\n",
    "    \n",
    "    accuracy = accuracy_score(y_test, y_pred)\n",
    "    precision = precision_score(y_test, y_pred, average='weighted')\n",
    "    recall = recall_score(y_test, y_pred, average='weighted')\n",
    "    f1 = f1_score(y_test, y_pred, average='weighted')\n",
    "\n",
    "    ########## Display the metrics\n",
    "    print(\"Testing Dataset : \\n\")\n",
    "    print(f\"Accuracy: {accuracy * 100:.2f}%\")\n",
    "    print(f\"Precision: {precision * 100:.2f}%\")\n",
    "    print(f\"Recall: {recall * 100:.2f}%\")\n",
    "    print(f\"F1 Score: {f1 * 100:.2f}%\")\n",
    "\n",
    "\n",
    "    print(\"\\n\")\n",
    "    print(\"Loss\\n\")\n",
    "    print(\"#\"*100)\n",
    "    print(\"\\n\")\n",
    "    y_train_prob = model.predict_proba(X_train)\n",
    "    y_test_prob = model.predict_proba(X_test)\n",
    "\n",
    "\n",
    "    train_loss = log_loss(y_train, y_train_prob)\n",
    "    test_loss = log_loss(y_test, y_test_prob)\n",
    "\n",
    "    print(f\"Train Loss: {train_loss:.4f}\")\n",
    "    print(f\"Test Loss: {test_loss:.4f}\")\n",
    "    \n",
    "    print(\"\\n\")\n",
    "    print(\"#\"*100)\n",
    "    \n",
    "     \n",
    "    return model"
   ]
  },
  {
   "cell_type": "code",
   "execution_count": 34,
   "id": "7676af64",
   "metadata": {},
   "outputs": [
    {
     "name": "stdout",
     "output_type": "stream",
     "text": [
      "       Actual   Predicted\n",
      "0      papaya      papaya\n",
      "1        jute        jute\n",
      "2      orange      orange\n",
      "3      orange      orange\n",
      "4  pigeonpeas  pigeonpeas\n",
      "Model training completed.\n",
      "\n",
      "\n",
      "####################################################################################################\n",
      "\n",
      "\n",
      "Testing Dataset : \n",
      "\n",
      "Accuracy: 99.81%\n",
      "Precision: 99.82%\n",
      "Recall: 99.81%\n",
      "F1 Score: 99.81%\n",
      "\n",
      "\n",
      "Loss\n",
      "\n",
      "####################################################################################################\n",
      "\n",
      "\n",
      "Train Loss: 0.0227\n",
      "Test Loss: 0.0792\n",
      "\n",
      "\n",
      "####################################################################################################\n"
     ]
    }
   ],
   "source": [
    "model = model_training(df_train_test)"
   ]
  },
  {
   "cell_type": "code",
   "execution_count": 35,
   "id": "9c9b9e8d",
   "metadata": {},
   "outputs": [
    {
     "name": "stdout",
     "output_type": "stream",
     "text": [
      "Validation Dataset : \n",
      "\n",
      "Accuracy: 98.86%\n",
      "Precision: 98.97%\n",
      "Recall: 98.86%\n",
      "F1 Score: 98.87%\n"
     ]
    }
   ],
   "source": [
    "X_val = df_val[['N', 'P', 'K', 'temperature', 'humidity', 'ph', 'rainfall']]\n",
    "y_val = df_val['label']\n",
    "y_val_pred = model.predict(X_val)\n",
    "\n",
    "\n",
    "accuracy = accuracy_score(y_val, y_val_pred)\n",
    "precision = precision_score(y_val, y_val_pred, average='weighted')\n",
    "recall = recall_score(y_val, y_val_pred, average='weighted')\n",
    "f1 = f1_score(y_val, y_val_pred, average='weighted')\n",
    "\n",
    "########## Display the metrics\n",
    "print(\"Validation Dataset : \\n\")\n",
    "print(f\"Accuracy: {accuracy * 100:.2f}%\")\n",
    "print(f\"Precision: {precision * 100:.2f}%\")\n",
    "print(f\"Recall: {recall * 100:.2f}%\")\n",
    "print(f\"F1 Score: {f1 * 100:.2f}%\")"
   ]
  },
  {
   "cell_type": "code",
   "execution_count": 36,
   "id": "fc4aa019",
   "metadata": {},
   "outputs": [
    {
     "data": {
      "application/vnd.microsoft.datawrangler.viewer.v0+json": {
       "columns": [
        {
         "name": "index",
         "rawType": "int64",
         "type": "integer"
        },
        {
         "name": "Actual",
         "rawType": "object",
         "type": "string"
        },
        {
         "name": "Predicted",
         "rawType": "object",
         "type": "string"
        }
       ],
       "ref": "9ea70264-5c33-4faf-9110-0d008790cf24",
       "rows": [
        [
         "0",
         "muskmelon",
         "muskmelon"
        ],
        [
         "1",
         "watermelon",
         "watermelon"
        ],
        [
         "2",
         "papaya",
         "papaya"
        ],
        [
         "3",
         "papaya",
         "papaya"
        ],
        [
         "4",
         "apple",
         "apple"
        ],
        [
         "5",
         "mango",
         "mango"
        ],
        [
         "6",
         "apple",
         "apple"
        ],
        [
         "7",
         "mothbeans",
         "mothbeans"
        ],
        [
         "8",
         "mungbean",
         "mungbean"
        ],
        [
         "9",
         "lentil",
         "lentil"
        ],
        [
         "10",
         "blackgram",
         "blackgram"
        ],
        [
         "11",
         "coconut",
         "coconut"
        ],
        [
         "12",
         "pomegranate",
         "pomegranate"
        ],
        [
         "13",
         "jute",
         "jute"
        ],
        [
         "14",
         "coconut",
         "coconut"
        ],
        [
         "15",
         "pomegranate",
         "pomegranate"
        ],
        [
         "16",
         "apple",
         "apple"
        ],
        [
         "17",
         "maize",
         "maize"
        ],
        [
         "18",
         "papaya",
         "papaya"
        ],
        [
         "19",
         "muskmelon",
         "muskmelon"
        ],
        [
         "20",
         "coffee",
         "coffee"
        ],
        [
         "21",
         "papaya",
         "papaya"
        ],
        [
         "22",
         "orange",
         "orange"
        ],
        [
         "23",
         "papaya",
         "papaya"
        ],
        [
         "24",
         "chickpea",
         "chickpea"
        ],
        [
         "25",
         "jute",
         "jute"
        ],
        [
         "26",
         "mungbean",
         "mungbean"
        ],
        [
         "27",
         "orange",
         "orange"
        ],
        [
         "28",
         "pigeonpeas",
         "pigeonpeas"
        ],
        [
         "29",
         "rice",
         "rice"
        ],
        [
         "30",
         "pomegranate",
         "pomegranate"
        ],
        [
         "31",
         "mothbeans",
         "mothbeans"
        ],
        [
         "32",
         "jute",
         "jute"
        ],
        [
         "33",
         "lentil",
         "lentil"
        ],
        [
         "34",
         "jute",
         "jute"
        ],
        [
         "35",
         "blackgram",
         "blackgram"
        ],
        [
         "36",
         "jute",
         "jute"
        ],
        [
         "37",
         "chickpea",
         "chickpea"
        ],
        [
         "38",
         "chickpea",
         "chickpea"
        ],
        [
         "39",
         "kidneybeans",
         "kidneybeans"
        ],
        [
         "40",
         "papaya",
         "papaya"
        ],
        [
         "41",
         "mango",
         "mango"
        ],
        [
         "42",
         "blackgram",
         "blackgram"
        ],
        [
         "43",
         "maize",
         "maize"
        ],
        [
         "44",
         "mungbean",
         "mungbean"
        ],
        [
         "45",
         "maize",
         "maize"
        ],
        [
         "46",
         "pigeonpeas",
         "pigeonpeas"
        ],
        [
         "47",
         "coconut",
         "coconut"
        ],
        [
         "48",
         "muskmelon",
         "muskmelon"
        ],
        [
         "49",
         "maize",
         "maize"
        ]
       ],
       "shape": {
        "columns": 2,
        "rows": 440
       }
      },
      "text/html": [
       "<div>\n",
       "<style scoped>\n",
       "    .dataframe tbody tr th:only-of-type {\n",
       "        vertical-align: middle;\n",
       "    }\n",
       "\n",
       "    .dataframe tbody tr th {\n",
       "        vertical-align: top;\n",
       "    }\n",
       "\n",
       "    .dataframe thead th {\n",
       "        text-align: right;\n",
       "    }\n",
       "</style>\n",
       "<table border=\"1\" class=\"dataframe\">\n",
       "  <thead>\n",
       "    <tr style=\"text-align: right;\">\n",
       "      <th></th>\n",
       "      <th>Actual</th>\n",
       "      <th>Predicted</th>\n",
       "    </tr>\n",
       "  </thead>\n",
       "  <tbody>\n",
       "    <tr>\n",
       "      <th>0</th>\n",
       "      <td>muskmelon</td>\n",
       "      <td>muskmelon</td>\n",
       "    </tr>\n",
       "    <tr>\n",
       "      <th>1</th>\n",
       "      <td>watermelon</td>\n",
       "      <td>watermelon</td>\n",
       "    </tr>\n",
       "    <tr>\n",
       "      <th>2</th>\n",
       "      <td>papaya</td>\n",
       "      <td>papaya</td>\n",
       "    </tr>\n",
       "    <tr>\n",
       "      <th>3</th>\n",
       "      <td>papaya</td>\n",
       "      <td>papaya</td>\n",
       "    </tr>\n",
       "    <tr>\n",
       "      <th>4</th>\n",
       "      <td>apple</td>\n",
       "      <td>apple</td>\n",
       "    </tr>\n",
       "    <tr>\n",
       "      <th>...</th>\n",
       "      <td>...</td>\n",
       "      <td>...</td>\n",
       "    </tr>\n",
       "    <tr>\n",
       "      <th>435</th>\n",
       "      <td>rice</td>\n",
       "      <td>rice</td>\n",
       "    </tr>\n",
       "    <tr>\n",
       "      <th>436</th>\n",
       "      <td>rice</td>\n",
       "      <td>rice</td>\n",
       "    </tr>\n",
       "    <tr>\n",
       "      <th>437</th>\n",
       "      <td>cotton</td>\n",
       "      <td>cotton</td>\n",
       "    </tr>\n",
       "    <tr>\n",
       "      <th>438</th>\n",
       "      <td>cotton</td>\n",
       "      <td>cotton</td>\n",
       "    </tr>\n",
       "    <tr>\n",
       "      <th>439</th>\n",
       "      <td>pigeonpeas</td>\n",
       "      <td>pigeonpeas</td>\n",
       "    </tr>\n",
       "  </tbody>\n",
       "</table>\n",
       "<p>440 rows × 2 columns</p>\n",
       "</div>"
      ],
      "text/plain": [
       "         Actual   Predicted\n",
       "0     muskmelon   muskmelon\n",
       "1    watermelon  watermelon\n",
       "2        papaya      papaya\n",
       "3        papaya      papaya\n",
       "4         apple       apple\n",
       "..          ...         ...\n",
       "435        rice        rice\n",
       "436        rice        rice\n",
       "437      cotton      cotton\n",
       "438      cotton      cotton\n",
       "439  pigeonpeas  pigeonpeas\n",
       "\n",
       "[440 rows x 2 columns]"
      ]
     },
     "execution_count": 36,
     "metadata": {},
     "output_type": "execute_result"
    }
   ],
   "source": [
    "results_df = pd.DataFrame({'Actual': y_val.values, 'Predicted': y_val_pred})\n",
    "results_df"
   ]
  },
  {
   "cell_type": "code",
   "execution_count": 37,
   "id": "2502a6f2",
   "metadata": {},
   "outputs": [
    {
     "data": {
      "image/png": "[encoded data removed]",
      "text/plain": [
       "<Figure size 1000x700 with 2 Axes>"
      ]
     },
     "metadata": {},
     "output_type": "display_data"
    }
   ],
   "source": [
    "#compute confusion matrix\n",
    "cm = confusion_matrix(y_val, y_val_pred)\n",
    "\n",
    "plt.figure(figsize=(10, 7))\n",
    "sns.heatmap(cm, annot=True, fmt='d', cmap='Blues', xticklabels=model.classes_, yticklabels=model.classes_)\n",
    "plt.xlabel('Predicted')\n",
    "plt.ylabel('Actual')\n",
    "plt.title('Confusion Matrix')\n",
    "plt.show()"
   ]
  },
  {
   "cell_type": "code",
   "execution_count": 38,
   "id": "9ef9d93d",
   "metadata": {},
   "outputs": [],
   "source": [
    "#save the model\n",
    "import pickle\n",
    "\n",
    "with open('crop_recommendation_model.pkl', 'wb') as file:\n",
    "    pickle.dump(model, file)\n"
   ]
  },
  {
   "cell_type": "code",
   "execution_count": 39,
   "id": "a165ddcd",
   "metadata": {},
   "outputs": [
    {
     "name": "stdout",
     "output_type": "stream",
     "text": [
      "Loaded model accuracy: 98.86%\n"
     ]
    }
   ],
   "source": [
    "# Load the model to verify it works\n",
    "with open('crop_recommendation_model.pkl', 'rb') as file:\n",
    "    loaded_model = pickle.load(file)\n",
    "# Verify the loaded model\n",
    "X_test = df_val[['N', 'P', 'K', 'temperature', 'humidity', 'ph', 'rainfall']]\n",
    "y_test = df_val['label']\n",
    "loaded_y_pred = loaded_model.predict(X_test)\n",
    "loaded_accuracy = accuracy_score(y_test, loaded_y_pred)\n",
    "print(f\"Loaded model accuracy: {loaded_accuracy * 100:.2f}%\")"
   ]
  },
  {
   "cell_type": "code",
   "execution_count": null,
   "id": "1f36862c",
   "metadata": {},
   "outputs": [],
   "source": []
  }
 ],
 "metadata": {
  "kernelspec": {
   "display_name": "Python 3",
   "language": "python",
   "name": "python3"
  },
  "language_info": {
   "codemirror_mode": {
    "name": "ipython",
    "version": 3
   },
   "file_extension": ".py",
   "mimetype": "text/x-python",
   "name": "python",
   "nbconvert_exporter": "python",
   "pygments_lexer": "ipython3",
   "version": "3.12.0"
  }
 },
 "nbformat": 4,
 "nbformat_minor": 5
}
