{
 "cells": [
  {
   "cell_type": "code",
   "execution_count": 1,
   "id": "40f7e052",
   "metadata": {},
   "outputs": [
    {
     "name": "stdout",
     "output_type": "stream",
     "text": [
      "✅ flask is installed\n",
      "✅ flask_cors is installed\n",
      "✅ requests is installed\n",
      "✅ dotenv is installed\n",
      "✅ langchain_community.vectorstores is installed\n",
      "✅ langchain_community.embeddings is installed\n",
      "✅ chromadb is installed\n"
     ]
    },
    {
     "name": "stderr",
     "output_type": "stream",
     "text": [
      "/Users/sujairibrahim/ML-Projects/SlaasCom/Backend_llma/venv/lib/python3.12/site-packages/tqdm/auto.py:21: TqdmWarning: IProgress not found. Please update jupyter and ipywidgets. See https://ipywidgets.readthedocs.io/en/stable/user_install.html\n",
      "  from .autonotebook import tqdm as notebook_tqdm\n"
     ]
    },
    {
     "name": "stdout",
     "output_type": "stream",
     "text": [
      "✅ sentence_transformers is installed\n",
      "✅ llama_cpp is installed\n"
     ]
    }
   ],
   "source": [
    "import importlib\n",
    "\n",
    "modules = [\n",
    "    \"flask\", \"flask_cors\", \"requests\", \"dotenv\",\n",
    "    \"langchain_community.vectorstores\", \"langchain_community.embeddings\",\n",
    "    \"chromadb\", \"sentence_transformers\", \"llama_cpp\"\n",
    "]\n",
    "\n",
    "for module in modules:\n",
    "    try:\n",
    "        importlib.import_module(module)\n",
    "        print(f\"✅ {module} is installed\")\n",
    "    except ImportError:\n",
    "        print(f\"❌ {module} is NOT installed\")"
   ]
  },
  {
   "cell_type": "code",
   "execution_count": null,
   "id": "13a6a6b4",
   "metadata": {},
   "outputs": [],
   "source": []
  }
 ],
 "metadata": {
  "kernelspec": {
   "display_name": "Python 3",
   "language": "python",
   "name": "python3"
  },
  "language_info": {
   "codemirror_mode": {
    "name": "ipython",
    "version": 3
   },
   "file_extension": ".py",
   "mimetype": "text/x-python",
   "name": "python",
   "nbconvert_exporter": "python",
   "pygments_lexer": "ipython3",
   "version": "3.12.0"
  }
 },
 "nbformat": 4,
 "nbformat_minor": 5
}
