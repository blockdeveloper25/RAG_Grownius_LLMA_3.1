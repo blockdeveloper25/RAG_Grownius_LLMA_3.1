{
 "cells": [
  {
   "cell_type": "code",
   "execution_count": 4,
   "id": "22fdc301",
   "metadata": {},
   "outputs": [
    {
     "name": "stdout",
     "output_type": "stream",
     "text": [
      "✅ Stored 528 chunks in ChromaDB!\n"
     ]
    }
   ],
   "source": [
    "import os\n",
    "from langchain.text_splitter import RecursiveCharacterTextSplitter\n",
    "from langchain.vectorstores import Chroma\n",
    "from langchain.embeddings import HuggingFaceEmbeddings\n",
    "from langchain.document_loaders import TextLoader\n",
    "\n",
    "\n",
    "# Initialize embedding model\n",
    "embedding_model = HuggingFaceEmbeddings(model_name=\"sentence-transformers/all-MiniLM-L6-v2\")\n",
    "\n",
    "# Initialize ChromaDB\n",
    "chroma_db_path = \"./grownius_vDb\"\n",
    "vector_store = Chroma(persist_directory=chroma_db_path, embedding_function=embedding_model)\n",
    "\n",
    "# Load text and split it into chunks\n",
    "def store_knowledge(file_path):\n",
    "    loader = TextLoader(file_path)\n",
    "    documents = loader.load()\n",
    "\n",
    "    text_splitter = RecursiveCharacterTextSplitter(chunk_size=500, chunk_overlap=200)\n",
    "    docs = text_splitter.split_documents(documents)\n",
    "\n",
    "    vector_store.add_documents(docs)\n",
    "    vector_store.persist()\n",
    "    print(f\"✅ Stored {len(docs)} chunks in ChromaDB!\")\n",
    "\n",
    "if __name__ == \"__main__\":\n",
    "    store_knowledge(\"crop_suggestions_grownius.txt\")  # Replace with your actual file\n"
   ]
  },
  {
   "cell_type": "code",
   "execution_count": 5,
   "id": "0ad031ac",
   "metadata": {},
   "outputs": [
    {
     "name": "stdout",
     "output_type": "stream",
     "text": [
      "Retrieved Information:\n",
      " Primary Crop: orange\n",
      "Input Conditions: {'N': '33', 'P': '14', 'K': '8', 'pH': '7.684420446', 'Rainfall': '110.6823944', 'Humidity': '92.9641969', 'Temperature': '21.03200078'}\n",
      "LLaMA Suggestions:\n",
      "**Farming Suggestions**\n",
      "\n",
      "Primary Crop: orange\n",
      "Input Conditions: {'N': '33', 'P': '14', 'K': '8', 'pH': '7.684420446', 'Rainfall': '110.6823944', 'Humidity': '92.9641969', 'Temperature': '21.03200078'}\n",
      "LLaMA Suggestions:\n",
      "**Farming Suggestions**\n",
      "\n",
      "Primary Crop: orange\n",
      "Input Conditions: {'N': '0', 'P': '18', 'K': '14', 'pH': '7.207991261', 'Rainfall': '114.41617859999998', 'Humidity': '92.00719952', 'Temperature': '29.77149434'}\n",
      "LLaMA Suggestions:\n",
      "**Farming Suggestions**\n"
     ]
    }
   ],
   "source": [
    "from langchain.vectorstores import Chroma\n",
    "from langchain.embeddings import HuggingFaceEmbeddings\n",
    "\n",
    "# Initialize embedding model\n",
    "embedding_model = HuggingFaceEmbeddings(model_name=\"sentence-transformers/all-MiniLM-L6-v2\")\n",
    "\n",
    "# Load ChromaDB\n",
    "vector_store = Chroma(persist_directory=\"./grownius_vDb\", embedding_function=embedding_model)\n",
    "\n",
    "def retrieve_context(query, top_k=3):\n",
    "    \"\"\"Retrieves relevant information using similarity search.\"\"\"\n",
    "    results = vector_store.similarity_search(query, k=top_k)\n",
    "    return \"\\n\\n\".join([doc.page_content for doc in results]) if results else \"No relevant information found.\"\n",
    "\n",
    "# Test retrieval\n",
    "sample_query = \"What crops grow well in dry climates?\"\n",
    "print(\"Retrieved Information:\\n\", retrieve_context(sample_query))\n"
   ]
  },
  {
   "cell_type": "code",
   "execution_count": null,
   "id": "85bd9212",
   "metadata": {},
   "outputs": [],
   "source": []
  }
 ],
 "metadata": {
  "kernelspec": {
   "display_name": "Python 3",
   "language": "python",
   "name": "python3"
  },
  "language_info": {
   "codemirror_mode": {
    "name": "ipython",
    "version": 3
   },
   "file_extension": ".py",
   "mimetype": "text/x-python",
   "name": "python",
   "nbconvert_exporter": "python",
   "pygments_lexer": "ipython3",
   "version": "3.12.0"
  }
 },
 "nbformat": 4,
 "nbformat_minor": 5
}
